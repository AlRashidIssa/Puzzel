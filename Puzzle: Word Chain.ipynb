{
 "cells": [
  {
   "cell_type": "markdown",
   "metadata": {},
   "source": [
    "# Puzzle: Word Chain\n",
    "\n",
    "Write a program that takes a list of words and determines if there is a chain of words where each word differs from the previous one by exactly one letter.\n",
    "\n",
    "For example, given the list [\"bat\", \"cot\", \"dog\", \"dot\", \"cat\"], the program should output True because we can form a chain:\n",
    "\n",
    "- bat\n",
    "- bat, cat\n",
    "- cat, cot\n",
    "- cot, dot\n",
    "- dot, dog"
   ]
  },
  {
   "cell_type": "markdown",
   "metadata": {},
   "source": [
    "# Don't look at the solution"
   ]
  },
  {
   "cell_type": "markdown",
   "metadata": {},
   "source": [
    "- ---> Don't look at the solution !!!\n",
    "- ---> Don't look at the solution !!!\n",
    "- ---> Don't look at the solution !!!\n",
    "- ---> Don't look at the solution !!!\n",
    "- ---> Don't look at the solution !!!\n",
    "- ---> Don't look at the solution !!!\n",
    "- ---> Don't look at the solution !!!\n",
    "- ---> Don't look at the solution !!!\n",
    "- ---> Don't look at the solution !!!\n",
    "- ---> Don't look at the solution !!!\n",
    "- ---> Don't look at the solution !!!\n",
    "- ---> Don't look at the solution !!!\n",
    "- ---> Don't look at the solution !!!\n",
    "- ---> Don't look at the solution !!!"
   ]
  },
  {
   "cell_type": "code",
   "execution_count": 5,
   "metadata": {},
   "outputs": [
    {
     "name": "stdout",
     "output_type": "stream",
     "text": [
      "Word chain found: dog -> dot\n"
     ]
    }
   ],
   "source": [
    "WorldChain = [\"bat\", \"cot\", \"dog\", \"dot\", \"cat\"]\n",
    "\n",
    "def IsWordChain():\n",
    "    for i in range(len(WorldChain) - 1):\n",
    "        word1 = WorldChain[i]\n",
    "        word2 = WorldChain[i + 1]\n",
    "\n",
    "        # Check if the words are one character different\n",
    "        diff_count = sum(c1 != c2 for c1, c2 in zip(word1, word2))\n",
    "        \n",
    "        if diff_count == 1:\n",
    "            print(f\"Word chain found: {word1} -> {word2}\")\n",
    "\n",
    "IsWordChain()"
   ]
  },
  {
   "cell_type": "markdown",
   "metadata": {},
   "source": [
    "The zip(word1, word1) function is used to combine the characters of two iterables (in this case, two words) element-wise"
   ]
  }
 ],
 "metadata": {
  "kernelspec": {
   "display_name": "AlRashid",
   "language": "python",
   "name": "python3"
  },
  "language_info": {
   "codemirror_mode": {
    "name": "ipython",
    "version": 3
   },
   "file_extension": ".py",
   "mimetype": "text/x-python",
   "name": "python",
   "nbconvert_exporter": "python",
   "pygments_lexer": "ipython3",
   "version": "3.11.6"
  }
 },
 "nbformat": 4,
 "nbformat_minor": 2
}
