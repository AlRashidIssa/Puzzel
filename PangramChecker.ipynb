{
 "cells": [
  {
   "cell_type": "markdown",
   "metadata": {},
   "source": [
    "# Puzzle: Pangram Checker\n",
    "\n",
    "Write a program that checks whether a given sentence is a pangram. A pangram is a sentence that contains every letter of the alphabet at least once."
   ]
  },
  {
   "cell_type": "markdown",
   "metadata": {},
   "source": [
    "### Example:\n",
    "* #### --> print(is_pangram(\"The quick brown fox jumps over the lazy dog\"))  # Output: True\n",
    "* #### -->print(is_pangram(\"Hello, World!\"))  # Output: False"
   ]
  },
  {
   "cell_type": "markdown",
   "metadata": {},
   "source": [
    "# Don't look at the solution"
   ]
  },
  {
   "cell_type": "markdown",
   "metadata": {},
   "source": [
    "- ---> Don't look at the solution !!!\n",
    "- ---> Don't look at the solution !!!\n",
    "- ---> Don't look at the solution !!!\n",
    "- ---> Don't look at the solution !!!\n",
    "- ---> Don't look at the solution !!!\n",
    "- ---> Don't look at the solution !!!\n",
    "- ---> Don't look at the solution !!!\n",
    "- ---> Don't look at the solution !!!\n",
    "- ---> Don't look at the solution !!!\n",
    "- ---> Don't look at the solution !!!\n",
    "- ---> Don't look at the solution !!!\n",
    "- ---> Don't look at the solution !!!\n",
    "- ---> Don't look at the solution !!!\n",
    "- ---> Don't look at the solution !!!"
   ]
  },
  {
   "cell_type": "code",
   "execution_count": 26,
   "metadata": {},
   "outputs": [
    {
     "name": "stdout",
     "output_type": "stream",
     "text": [
      "True\n",
      "False\n"
     ]
    }
   ],
   "source": [
    "def IsPangram(Word: str) -> bool:\n",
    "    # Define the custom alphabet mapping\n",
    "    alphabet = set(\"abcdefghijklmnopqrstuvwxyz\")\n",
    "\n",
    "    # Create a set to store the unique letters in the word  (case-insensitive)\n",
    "    unique_letters = set(Word.lower())\n",
    "\n",
    "    # Check a set to store the unique letters is equal to the set of alphabet letters\n",
    "\n",
    "    return unique_letters.issuperset(alphabet)\n",
    "\n",
    "print(IsPangram(\"The quick brown fox jumps over the lazy dog\"))\n",
    "print(IsPangram(\"Hello, World!\"))\n"
   ]
  }
 ],
 "metadata": {
  "kernelspec": {
   "display_name": "AlRashid",
   "language": "python",
   "name": "python3"
  },
  "language_info": {
   "codemirror_mode": {
    "name": "ipython",
    "version": 3
   },
   "file_extension": ".py",
   "mimetype": "text/x-python",
   "name": "python",
   "nbconvert_exporter": "python",
   "pygments_lexer": "ipython3",
   "version": "3.11.6"
  }
 },
 "nbformat": 4,
 "nbformat_minor": 2
}
